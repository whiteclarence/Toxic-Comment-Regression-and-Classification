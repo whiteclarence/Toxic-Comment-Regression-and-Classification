{
 "cells": [
  {
   "cell_type": "code",
   "execution_count": 2,
   "id": "9b83e0ba",
   "metadata": {},
   "outputs": [],
   "source": [
    "import numpy as np # linear algebra\n",
    "import pandas as pd # data processing, CSV file I/O (e.g. pd.read_csv)\n",
    "import os\n",
    "import re\n",
    "import spacy\n",
    "import nltk\n",
    "from bs4 import BeautifulSoup\n",
    "import unicodedata\n",
    "from sklearn.feature_extraction.text import CountVectorizer, TfidfVectorizer\n",
    "from nltk.stem import PorterStemmer\n",
    "from nltk.stem import WordNetLemmatizer\n",
    "from nltk.tokenize.toktok import ToktokTokenizer\n",
    "from tqdm import tqdm\n",
    "#Feature Engineering Models\n",
    "from gensim.models import Word2Vec  ## We are importing python function for training a word2vec model.\n",
    "\n",
    "# Preparing the dataset\n",
    "from sklearn.model_selection import train_test_split   # split the dataset into training and testing set\n",
    "from sklearn.model_selection import cross_val_score    # Perform cross validation \n",
    "from sklearn.model_selection import StratifiedKFold    # Stratify the data in each fold\n",
    "from sklearn.model_selection import KFold \n",
    "from imblearn.under_sampling import RandomUnderSampler\n",
    "import xgboost as xgb\n",
    "from xgboost import XGBClassifier, XGBRegressor\n",
    "from sklearn.neural_network import MLPClassifier\n",
    "\n",
    "# Evaluation Metrics\n",
    "from sklearn.metrics import classification_report     # to get the performance measures\n",
    "from sklearn.metrics import confusion_matrix          # To compute the false positives and false negatives\n",
    "from sklearn.metrics import accuracy_score, f1_score, precision_score, recall_score            # Accuracy measures\n",
    "\n",
    "import tensorflow as tf\n",
    "from keras.models import Sequential\n",
    "from keras.layers import Dense\n",
    "from keras.layers import Dropout\n",
    "from keras.callbacks import EarlyStopping\n",
    "\n",
    "import matplotlib.pyplot as plt\n",
    "import seaborn as sns\n"
   ]
  },
  {
   "cell_type": "code",
   "execution_count": 3,
   "id": "fbc2750b-1f49-4020-80b5-b586495dd214",
   "metadata": {},
   "outputs": [
    {
     "name": "stdout",
     "output_type": "stream",
     "text": [
      "Num GPUs Available:  1\n"
     ]
    }
   ],
   "source": [
    "print(\"Num GPUs Available: \", len(tf.config.list_physical_devices('GPU')))"
   ]
  },
  {
   "cell_type": "markdown",
   "id": "fac31554",
   "metadata": {},
   "source": [
    "## Load the data."
   ]
  },
  {
   "cell_type": "code",
   "execution_count": 4,
   "id": "6a2f1881",
   "metadata": {},
   "outputs": [],
   "source": [
    "train =pd.read_csv('data/df_train_spell_hash.csv')\n",
    "df = train[['target','comment_text']]"
   ]
  },
  {
   "cell_type": "code",
   "execution_count": null,
   "id": "7222543b-f317-4744-a7ca-875e9f72732a",
   "metadata": {},
   "outputs": [],
   "source": []
  },
  {
   "cell_type": "code",
   "execution_count": 5,
   "id": "2f7a2e6a",
   "metadata": {},
   "outputs": [
    {
     "data": {
      "text/html": [
       "<div>\n",
       "<style scoped>\n",
       "    .dataframe tbody tr th:only-of-type {\n",
       "        vertical-align: middle;\n",
       "    }\n",
       "\n",
       "    .dataframe tbody tr th {\n",
       "        vertical-align: top;\n",
       "    }\n",
       "\n",
       "    .dataframe thead th {\n",
       "        text-align: right;\n",
       "    }\n",
       "</style>\n",
       "<table border=\"1\" class=\"dataframe\">\n",
       "  <thead>\n",
       "    <tr style=\"text-align: right;\">\n",
       "      <th></th>\n",
       "      <th>target</th>\n",
       "      <th>comment_text</th>\n",
       "      <th>comment_text_normalized</th>\n",
       "    </tr>\n",
       "  </thead>\n",
       "  <tbody>\n",
       "    <tr>\n",
       "      <th>0</th>\n",
       "      <td>0.000000</td>\n",
       "      <td>This is so cool. It's like, 'would you want yo...</td>\n",
       "      <td>cool like would want mother read really great ...</td>\n",
       "    </tr>\n",
       "    <tr>\n",
       "      <th>1</th>\n",
       "      <td>0.000000</td>\n",
       "      <td>Thank you!! This would make my life a lot less...</td>\n",
       "      <td>thank would make life lot less anxiety inducin...</td>\n",
       "    </tr>\n",
       "    <tr>\n",
       "      <th>2</th>\n",
       "      <td>0.000000</td>\n",
       "      <td>This is such an urgent design problem; kudos t...</td>\n",
       "      <td>urgent design problem judo take impressive</td>\n",
       "    </tr>\n",
       "    <tr>\n",
       "      <th>3</th>\n",
       "      <td>0.000000</td>\n",
       "      <td>Is this something I'll be able to install on m...</td>\n",
       "      <td>beth something able install site release</td>\n",
       "    </tr>\n",
       "    <tr>\n",
       "      <th>4</th>\n",
       "      <td>0.893617</td>\n",
       "      <td>haha you guys are a bunch of losers.</td>\n",
       "      <td>haha guy bunch loser</td>\n",
       "    </tr>\n",
       "  </tbody>\n",
       "</table>\n",
       "</div>"
      ],
      "text/plain": [
       "     target                                       comment_text  \\\n",
       "0  0.000000  This is so cool. It's like, 'would you want yo...   \n",
       "1  0.000000  Thank you!! This would make my life a lot less...   \n",
       "2  0.000000  This is such an urgent design problem; kudos t...   \n",
       "3  0.000000  Is this something I'll be able to install on m...   \n",
       "4  0.893617               haha you guys are a bunch of losers.   \n",
       "\n",
       "                             comment_text_normalized  \n",
       "0  cool like would want mother read really great ...  \n",
       "1  thank would make life lot less anxiety inducin...  \n",
       "2         urgent design problem judo take impressive  \n",
       "3           beth something able install site release  \n",
       "4                               haha guy bunch loser  "
      ]
     },
     "execution_count": 5,
     "metadata": {},
     "output_type": "execute_result"
    }
   ],
   "source": [
    "train.head()"
   ]
  },
  {
   "cell_type": "code",
   "execution_count": 6,
   "id": "73640274",
   "metadata": {},
   "outputs": [],
   "source": [
    "norm_text = train['comment_text_normalized'].tolist()\n",
    "norm_text = [str(x) for x in norm_text]"
   ]
  },
  {
   "cell_type": "code",
   "execution_count": 7,
   "id": "b4bc1ef8",
   "metadata": {},
   "outputs": [
    {
     "data": {
      "text/plain": [
       "'cool like would want mother read really great idea well'"
      ]
     },
     "execution_count": 7,
     "metadata": {},
     "output_type": "execute_result"
    }
   ],
   "source": [
    "norm_text[0]"
   ]
  },
  {
   "cell_type": "code",
   "execution_count": 8,
   "id": "e8863397",
   "metadata": {},
   "outputs": [],
   "source": [
    "doc = [x.split() for x in norm_text]\n",
    "#doc"
   ]
  },
  {
   "cell_type": "markdown",
   "id": "8e80d061",
   "metadata": {},
   "source": [
    "## Train Word2Vec model"
   ]
  },
  {
   "cell_type": "code",
   "execution_count": 9,
   "id": "1e42495d",
   "metadata": {},
   "outputs": [],
   "source": [
    "#w2v_model=Word2Vec(sentences=doc, vector_size=300, window=7, epochs=20)  ## comment this out if loading an already saved model\n",
    "w2v_model = Word2Vec.load(\"model/word2vec.model\")  ## uncomment this out if loading an already saved model"
   ]
  },
  {
   "cell_type": "code",
   "execution_count": 10,
   "id": "b3a97970",
   "metadata": {},
   "outputs": [],
   "source": [
    "#w2v_model.save(\"model/word2vec.model\") ## comment this out if loading an already saved model"
   ]
  },
  {
   "cell_type": "code",
   "execution_count": 11,
   "id": "22f847d7",
   "metadata": {},
   "outputs": [],
   "source": [
    "def document_vector(doc):\n",
    "    \"\"\"Create document vectors by averaging word vectors. Remove out-of-vocabulary words.\"\"\"\n",
    "    #print(doc)\n",
    "    try:\n",
    "        doc_vec = [word for word in doc if word in w2v_model.wv.index_to_key]\n",
    "        #print(doc)\n",
    "        return np.mean(w2v_model.wv[doc_vec], axis=0)\n",
    "    except:\n",
    "        pass\n",
    "        #print(doc)"
   ]
  },
  {
   "cell_type": "code",
   "execution_count": 12,
   "id": "1707de83",
   "metadata": {},
   "outputs": [
    {
     "name": "stderr",
     "output_type": "stream",
     "text": [
      "100%|██████████| 1804874/1804874 [46:13<00:00, 650.65it/s] \n"
     ]
    }
   ],
   "source": [
    "word_vecs = [document_vector(filtered_doc) for filtered_doc in tqdm(doc)]\n",
    "#word_vecs"
   ]
  },
  {
   "cell_type": "code",
   "execution_count": 13,
   "id": "6e053b92",
   "metadata": {},
   "outputs": [
    {
     "data": {
      "text/plain": [
       "1804874"
      ]
     },
     "execution_count": 13,
     "metadata": {},
     "output_type": "execute_result"
    }
   ],
   "source": [
    "len(word_vecs)"
   ]
  },
  {
   "cell_type": "code",
   "execution_count": 14,
   "id": "9804c75f",
   "metadata": {},
   "outputs": [
    {
     "data": {
      "text/plain": [
       "[7,\n",
       " 297,\n",
       " 413,\n",
       " 2520,\n",
       " 4089,\n",
       " 9575,\n",
       " 9813,\n",
       " 11426,\n",
       " 14033,\n",
       " 20061,\n",
       " 21532,\n",
       " 22166,\n",
       " 22802,\n",
       " 23674,\n",
       " 24825,\n",
       " 25598,\n",
       " 28526,\n",
       " 29990,\n",
       " 30526,\n",
       " 31236,\n",
       " 32704,\n",
       " 33188,\n",
       " 33313,\n",
       " 37982,\n",
       " 38068,\n",
       " 38092,\n",
       " 40757,\n",
       " 40759,\n",
       " 41826,\n",
       " 42774,\n",
       " 43160,\n",
       " 43439,\n",
       " 45121,\n",
       " 45682,\n",
       " 46828,\n",
       " 46901,\n",
       " 47436,\n",
       " 49588,\n",
       " 50170,\n",
       " 50818,\n",
       " 52534,\n",
       " 53087,\n",
       " 54014,\n",
       " 54974,\n",
       " 59302,\n",
       " 59752,\n",
       " 63348,\n",
       " 65677,\n",
       " 67729,\n",
       " 70309,\n",
       " 70839,\n",
       " 71354,\n",
       " 73539,\n",
       " 73942,\n",
       " 74930,\n",
       " 76402,\n",
       " 77086,\n",
       " 77181,\n",
       " 78986,\n",
       " 79299,\n",
       " 80330,\n",
       " 80897,\n",
       " 81609,\n",
       " 82489,\n",
       " 82601,\n",
       " 84599,\n",
       " 86829,\n",
       " 87239,\n",
       " 88947,\n",
       " 89025,\n",
       " 91389,\n",
       " 92211,\n",
       " 92654,\n",
       " 93833,\n",
       " 93856,\n",
       " 95127,\n",
       " 95889,\n",
       " 97883,\n",
       " 98591,\n",
       " 99887,\n",
       " 104256,\n",
       " 105092,\n",
       " 105237,\n",
       " 105404,\n",
       " 105904,\n",
       " 107254,\n",
       " 109674,\n",
       " 110621,\n",
       " 111540,\n",
       " 112902,\n",
       " 113417,\n",
       " 113538,\n",
       " 114804,\n",
       " 115876,\n",
       " 115954,\n",
       " 118170,\n",
       " 119652,\n",
       " 121052,\n",
       " 121268,\n",
       " 123175,\n",
       " 123340,\n",
       " 123384,\n",
       " 125845,\n",
       " 126860,\n",
       " 127690,\n",
       " 128465,\n",
       " 128468,\n",
       " 129076,\n",
       " 133036,\n",
       " 134704,\n",
       " 135733,\n",
       " 135910,\n",
       " 136036,\n",
       " 138830,\n",
       " 139123,\n",
       " 139305,\n",
       " 140073,\n",
       " 141567,\n",
       " 148421,\n",
       " 150690,\n",
       " 152074,\n",
       " 152794,\n",
       " 154619,\n",
       " 155373,\n",
       " 156484,\n",
       " 157247,\n",
       " 158237,\n",
       " 159873,\n",
       " 159988,\n",
       " 160765,\n",
       " 161249,\n",
       " 161718,\n",
       " 162223,\n",
       " 163372,\n",
       " 164196,\n",
       " 164977,\n",
       " 166853,\n",
       " 168918,\n",
       " 170545,\n",
       " 171786,\n",
       " 172030,\n",
       " 177878,\n",
       " 179592,\n",
       " 181615,\n",
       " 182010,\n",
       " 182596,\n",
       " 184729,\n",
       " 186096,\n",
       " 187777,\n",
       " 189986,\n",
       " 194108,\n",
       " 195062,\n",
       " 196129,\n",
       " 196485,\n",
       " 196792,\n",
       " 197316,\n",
       " 197433,\n",
       " 198278,\n",
       " 200258,\n",
       " 202068,\n",
       " 202971,\n",
       " 204615,\n",
       " 204740,\n",
       " 205270,\n",
       " 207366,\n",
       " 207867,\n",
       " 208312,\n",
       " 209480,\n",
       " 209836,\n",
       " 210567,\n",
       " 211052,\n",
       " 212562,\n",
       " 212772,\n",
       " 217491,\n",
       " 220301,\n",
       " 222390,\n",
       " 223605,\n",
       " 223846,\n",
       " 227421,\n",
       " 229617,\n",
       " 232012,\n",
       " 233480,\n",
       " 233682,\n",
       " 234018,\n",
       " 234949,\n",
       " 239858,\n",
       " 240382,\n",
       " 241698,\n",
       " 241946,\n",
       " 243563,\n",
       " 244756,\n",
       " 245200,\n",
       " 250696,\n",
       " 252044,\n",
       " 252445,\n",
       " 253222,\n",
       " 254520,\n",
       " 256217,\n",
       " 259621,\n",
       " 260575,\n",
       " 262883,\n",
       " 267219,\n",
       " 267262,\n",
       " 271640,\n",
       " 274382,\n",
       " 275521,\n",
       " 276400,\n",
       " 276604,\n",
       " 277730,\n",
       " 279680,\n",
       " 280365,\n",
       " 280732,\n",
       " 281018,\n",
       " 281674,\n",
       " 281678,\n",
       " 287860,\n",
       " 290856,\n",
       " 292795,\n",
       " 293461,\n",
       " 294915,\n",
       " 299842,\n",
       " 302606,\n",
       " 306710,\n",
       " 308355,\n",
       " 309116,\n",
       " 310968,\n",
       " 311763,\n",
       " 312700,\n",
       " 313663,\n",
       " 314533,\n",
       " 315290,\n",
       " 315452,\n",
       " 315462,\n",
       " 315929,\n",
       " 316279,\n",
       " 316956,\n",
       " 318016,\n",
       " 318942,\n",
       " 320279,\n",
       " 321399,\n",
       " 321472,\n",
       " 322522,\n",
       " 323316,\n",
       " 324355,\n",
       " 324700,\n",
       " 326320,\n",
       " 326522,\n",
       " 330609,\n",
       " 332830,\n",
       " 334971,\n",
       " 335429,\n",
       " 335810,\n",
       " 337806,\n",
       " 342420,\n",
       " 343040,\n",
       " 343820,\n",
       " 347842,\n",
       " 348718,\n",
       " 349522,\n",
       " 354675,\n",
       " 354883,\n",
       " 356123,\n",
       " 357495,\n",
       " 358606,\n",
       " 359661,\n",
       " 359903,\n",
       " 360601,\n",
       " 361952,\n",
       " 362186,\n",
       " 362764,\n",
       " 364821,\n",
       " 365976,\n",
       " 367142,\n",
       " 369187,\n",
       " 369705,\n",
       " 369765,\n",
       " 373078,\n",
       " 373968,\n",
       " 374315,\n",
       " 377380,\n",
       " 378234,\n",
       " 381624,\n",
       " 381969,\n",
       " 389281,\n",
       " 389761,\n",
       " 390808,\n",
       " 393556,\n",
       " 393865,\n",
       " 396264,\n",
       " 398038,\n",
       " 402183,\n",
       " 402849,\n",
       " 403255,\n",
       " 405088,\n",
       " 405342,\n",
       " 406086,\n",
       " 407011,\n",
       " 407867,\n",
       " 408203,\n",
       " 409119,\n",
       " 410692,\n",
       " 411168,\n",
       " 411945,\n",
       " 413479,\n",
       " 413713,\n",
       " 413728,\n",
       " 414186,\n",
       " 421141,\n",
       " 421969,\n",
       " 423429,\n",
       " 424067,\n",
       " 426143,\n",
       " 427586,\n",
       " 428052,\n",
       " 430129,\n",
       " 431943,\n",
       " 432156,\n",
       " 435645,\n",
       " 436087,\n",
       " 436356,\n",
       " 438447,\n",
       " 440468,\n",
       " 441757,\n",
       " 441829,\n",
       " 442280,\n",
       " 445544,\n",
       " 450225,\n",
       " 450748,\n",
       " 451846,\n",
       " 452644,\n",
       " 453210,\n",
       " 454289,\n",
       " 454936,\n",
       " 458070,\n",
       " 460866,\n",
       " 465093,\n",
       " 468815,\n",
       " 470867,\n",
       " 471007,\n",
       " 476382,\n",
       " 476501,\n",
       " 478141,\n",
       " 478786,\n",
       " 484400,\n",
       " 485562,\n",
       " 486557,\n",
       " 486733,\n",
       " 489170,\n",
       " 490441,\n",
       " 491594,\n",
       " 492416,\n",
       " 492538,\n",
       " 496150,\n",
       " 496581,\n",
       " 497644,\n",
       " 498685,\n",
       " 499876,\n",
       " 504573,\n",
       " 512477,\n",
       " 513616,\n",
       " 513659,\n",
       " 513661,\n",
       " 517981,\n",
       " 518466,\n",
       " 527145,\n",
       " 531580,\n",
       " 536440,\n",
       " 537061,\n",
       " 538243,\n",
       " 538308,\n",
       " 540203,\n",
       " 540304,\n",
       " 540402,\n",
       " 540878,\n",
       " 541151,\n",
       " 543342,\n",
       " 545644,\n",
       " 546810,\n",
       " 551861,\n",
       " 553267,\n",
       " 553381,\n",
       " 554438,\n",
       " 554624,\n",
       " 556250,\n",
       " 558144,\n",
       " 560748,\n",
       " 563460,\n",
       " 569187,\n",
       " 572658,\n",
       " 574204,\n",
       " 576128,\n",
       " 577728,\n",
       " 580053,\n",
       " 580479,\n",
       " 580600,\n",
       " 580926,\n",
       " 584072,\n",
       " 587379,\n",
       " 588509,\n",
       " 589932,\n",
       " 590302,\n",
       " 590335,\n",
       " 590391,\n",
       " 590408,\n",
       " 590904,\n",
       " 595945,\n",
       " 598614,\n",
       " 598765,\n",
       " 599230,\n",
       " 602879,\n",
       " 603272,\n",
       " 604954,\n",
       " 607103,\n",
       " 609452,\n",
       " 611763,\n",
       " 614821,\n",
       " 616117,\n",
       " 617687,\n",
       " 619185,\n",
       " 623963,\n",
       " 624524,\n",
       " 628979,\n",
       " 629122,\n",
       " 632450,\n",
       " 632494,\n",
       " 637489,\n",
       " 640584,\n",
       " 645833,\n",
       " 651776,\n",
       " 654839,\n",
       " 654968,\n",
       " 658236,\n",
       " 658856,\n",
       " 659657,\n",
       " 659729,\n",
       " 659749,\n",
       " 659775,\n",
       " 660018,\n",
       " 660683,\n",
       " 662130,\n",
       " 667730,\n",
       " 669248,\n",
       " 671028,\n",
       " 671192,\n",
       " 672316,\n",
       " 672817,\n",
       " 673379,\n",
       " 673697,\n",
       " 674309,\n",
       " 675410,\n",
       " 680121,\n",
       " 680611,\n",
       " 680737,\n",
       " 681240,\n",
       " 682396,\n",
       " 684065,\n",
       " 686901,\n",
       " 687738,\n",
       " 687875,\n",
       " 688043,\n",
       " 688063,\n",
       " 689201,\n",
       " 692470,\n",
       " 696773,\n",
       " 698337,\n",
       " 699578,\n",
       " 700324,\n",
       " 702464,\n",
       " 702603,\n",
       " 704795,\n",
       " 705868,\n",
       " 707810,\n",
       " 710194,\n",
       " 710213,\n",
       " 711314,\n",
       " 711415,\n",
       " 714345,\n",
       " 714499,\n",
       " 715019,\n",
       " 716309,\n",
       " 717590,\n",
       " 717810,\n",
       " 718005,\n",
       " 718163,\n",
       " 720117,\n",
       " 723935,\n",
       " 724420,\n",
       " 724506,\n",
       " 726655,\n",
       " 727047,\n",
       " 729787,\n",
       " 730039,\n",
       " 732794,\n",
       " 733920,\n",
       " 734408,\n",
       " 739648,\n",
       " 740903,\n",
       " 742706,\n",
       " 744302,\n",
       " 744936,\n",
       " 746370,\n",
       " 747005,\n",
       " 749873,\n",
       " 749915,\n",
       " 751316,\n",
       " 751334,\n",
       " 752530,\n",
       " 753380,\n",
       " 756076,\n",
       " 759587,\n",
       " 760569,\n",
       " 763243,\n",
       " 764925,\n",
       " 765270,\n",
       " 766693,\n",
       " 769584,\n",
       " 769648,\n",
       " 770481,\n",
       " 771054,\n",
       " 771849,\n",
       " 772272,\n",
       " 775641,\n",
       " 778085,\n",
       " 779002,\n",
       " 779279,\n",
       " 781292,\n",
       " 781398,\n",
       " 788448,\n",
       " 793670,\n",
       " 794399,\n",
       " 800090,\n",
       " 801122,\n",
       " 806231,\n",
       " 808423,\n",
       " 809033,\n",
       " 811262,\n",
       " 812390,\n",
       " 812549,\n",
       " 812599,\n",
       " 813194,\n",
       " 814094,\n",
       " 815673,\n",
       " 815763,\n",
       " 816549,\n",
       " 819009,\n",
       " 821626,\n",
       " 823438,\n",
       " 823482,\n",
       " 824873,\n",
       " 826158,\n",
       " 827330,\n",
       " 829236,\n",
       " 830051,\n",
       " 830174,\n",
       " 832002,\n",
       " 833062,\n",
       " 834185,\n",
       " 834860,\n",
       " 836602,\n",
       " 837320,\n",
       " 840066,\n",
       " 841457,\n",
       " 842737,\n",
       " 842813,\n",
       " 843697,\n",
       " 844124,\n",
       " 844614,\n",
       " 844629,\n",
       " 844685,\n",
       " 846923,\n",
       " 848113,\n",
       " 848143,\n",
       " 848357,\n",
       " 848584,\n",
       " 851642,\n",
       " 853082,\n",
       " 854829,\n",
       " 855465,\n",
       " 855810,\n",
       " 856100,\n",
       " 856307,\n",
       " 857865,\n",
       " 858436,\n",
       " 859202,\n",
       " 860164,\n",
       " 862738,\n",
       " 863710,\n",
       " 867021,\n",
       " 869307,\n",
       " 869317,\n",
       " 870558,\n",
       " 873492,\n",
       " 875154,\n",
       " 876076,\n",
       " 876784,\n",
       " 880376,\n",
       " 881926,\n",
       " 882296,\n",
       " 884140,\n",
       " 884816,\n",
       " 888327,\n",
       " 889098,\n",
       " 894128,\n",
       " 895206,\n",
       " 895842,\n",
       " 896065,\n",
       " 896402,\n",
       " 897086,\n",
       " 901014,\n",
       " 903861,\n",
       " 904747,\n",
       " 905311,\n",
       " 905886,\n",
       " 906140,\n",
       " 913541,\n",
       " 915151,\n",
       " 916515,\n",
       " 916917,\n",
       " 919117,\n",
       " 919929,\n",
       " 922428,\n",
       " 924517,\n",
       " 928827,\n",
       " 928992,\n",
       " 930512,\n",
       " 931662,\n",
       " 933741,\n",
       " 933778,\n",
       " 933801,\n",
       " 934074,\n",
       " 934121,\n",
       " 934300,\n",
       " 936601,\n",
       " 936903,\n",
       " 937201,\n",
       " 938648,\n",
       " 939343,\n",
       " 941553,\n",
       " 941901,\n",
       " 943413,\n",
       " 943634,\n",
       " 947777,\n",
       " 949971,\n",
       " 950638,\n",
       " 950917,\n",
       " 954859,\n",
       " 957616,\n",
       " 965768,\n",
       " 966776,\n",
       " 972028,\n",
       " 972626,\n",
       " 972804,\n",
       " 975301,\n",
       " 976540,\n",
       " 976870,\n",
       " 977062,\n",
       " 981303,\n",
       " 984298,\n",
       " 984671,\n",
       " 984849,\n",
       " 987799,\n",
       " 987977,\n",
       " 996615,\n",
       " 997773,\n",
       " 998179,\n",
       " 1006092,\n",
       " 1010153,\n",
       " 1011518,\n",
       " 1012127,\n",
       " 1014751,\n",
       " 1015015,\n",
       " 1015474,\n",
       " 1015763,\n",
       " 1016506,\n",
       " 1017555,\n",
       " 1018150,\n",
       " 1018915,\n",
       " 1020148,\n",
       " 1021526,\n",
       " 1022369,\n",
       " 1023830,\n",
       " 1025954,\n",
       " 1027865,\n",
       " 1030231,\n",
       " 1032204,\n",
       " 1035445,\n",
       " 1038688,\n",
       " 1044342,\n",
       " 1045292,\n",
       " 1045485,\n",
       " 1052037,\n",
       " 1052197,\n",
       " 1054782,\n",
       " 1055582,\n",
       " 1056018,\n",
       " 1056390,\n",
       " 1056851,\n",
       " 1056872,\n",
       " 1056888,\n",
       " 1059249,\n",
       " 1063211,\n",
       " 1063612,\n",
       " 1066367,\n",
       " 1069673,\n",
       " 1070087,\n",
       " 1072770,\n",
       " 1074390,\n",
       " 1074452,\n",
       " 1080137,\n",
       " 1090611,\n",
       " 1092717,\n",
       " 1095170,\n",
       " 1096003,\n",
       " 1096422,\n",
       " 1098586,\n",
       " 1100152,\n",
       " 1100297,\n",
       " 1100961,\n",
       " 1100972,\n",
       " 1101581,\n",
       " 1103099,\n",
       " 1103531,\n",
       " 1106447,\n",
       " 1106716,\n",
       " 1109927,\n",
       " 1109928,\n",
       " 1110709,\n",
       " 1111458,\n",
       " 1112248,\n",
       " 1117278,\n",
       " 1119709,\n",
       " 1121469,\n",
       " 1123024,\n",
       " 1123670,\n",
       " 1125851,\n",
       " 1126598,\n",
       " 1128148,\n",
       " 1129680,\n",
       " 1137258,\n",
       " 1137638,\n",
       " 1139209,\n",
       " 1139643,\n",
       " 1140326,\n",
       " 1140406,\n",
       " 1143173,\n",
       " 1147144,\n",
       " 1147988,\n",
       " 1152171,\n",
       " 1153560,\n",
       " 1154775,\n",
       " 1155131,\n",
       " 1155385,\n",
       " 1156428,\n",
       " 1156576,\n",
       " 1156637,\n",
       " 1156942,\n",
       " 1157008,\n",
       " 1157225,\n",
       " 1162209,\n",
       " 1164031,\n",
       " 1166073,\n",
       " 1166383,\n",
       " 1167330,\n",
       " 1168782,\n",
       " 1170595,\n",
       " 1171065,\n",
       " 1171679,\n",
       " 1172913,\n",
       " 1173996,\n",
       " 1175181,\n",
       " 1175344,\n",
       " 1176509,\n",
       " 1176957,\n",
       " 1177045,\n",
       " 1178808,\n",
       " 1179155,\n",
       " 1179716,\n",
       " 1179733,\n",
       " 1179904,\n",
       " 1182128,\n",
       " 1182673,\n",
       " 1182933,\n",
       " 1188314,\n",
       " 1189752,\n",
       " 1193200,\n",
       " 1194571,\n",
       " 1195073,\n",
       " 1196142,\n",
       " 1196355,\n",
       " 1196542,\n",
       " 1196561,\n",
       " 1196727,\n",
       " 1197363,\n",
       " 1197757,\n",
       " 1198362,\n",
       " 1198482,\n",
       " 1198963,\n",
       " 1200283,\n",
       " 1202119,\n",
       " 1202516,\n",
       " 1204688,\n",
       " 1205995,\n",
       " 1208455,\n",
       " 1209348,\n",
       " 1211088,\n",
       " 1214161,\n",
       " 1214411,\n",
       " 1214907,\n",
       " 1218837,\n",
       " 1220211,\n",
       " 1222164,\n",
       " 1222174,\n",
       " 1224754,\n",
       " 1227251,\n",
       " 1227340,\n",
       " 1227608,\n",
       " 1228380,\n",
       " 1228558,\n",
       " 1229310,\n",
       " 1229684,\n",
       " 1230370,\n",
       " 1232872,\n",
       " 1233811,\n",
       " 1235788,\n",
       " 1237371,\n",
       " 1239312,\n",
       " 1240171,\n",
       " 1240931,\n",
       " 1241302,\n",
       " 1241979,\n",
       " 1243242,\n",
       " 1244116,\n",
       " 1244626,\n",
       " 1247386,\n",
       " 1247470,\n",
       " 1247625,\n",
       " 1249425,\n",
       " 1251848,\n",
       " 1253480,\n",
       " 1255797,\n",
       " 1256042,\n",
       " 1256423,\n",
       " 1258593,\n",
       " 1258598,\n",
       " 1259688,\n",
       " 1260411,\n",
       " 1261203,\n",
       " 1263172,\n",
       " 1264013,\n",
       " 1264647,\n",
       " 1265236,\n",
       " 1267932,\n",
       " 1268121,\n",
       " 1270810,\n",
       " 1271109,\n",
       " 1271834,\n",
       " 1272589,\n",
       " 1273120,\n",
       " 1273209,\n",
       " 1273312,\n",
       " 1274905,\n",
       " 1275741,\n",
       " 1277112,\n",
       " 1277312,\n",
       " 1283263,\n",
       " 1285717,\n",
       " 1288620,\n",
       " 1290822,\n",
       " 1291064,\n",
       " 1291560,\n",
       " 1293820,\n",
       " 1295873,\n",
       " 1296026,\n",
       " 1302277,\n",
       " 1302528,\n",
       " 1303711,\n",
       " 1303909,\n",
       " 1304550,\n",
       " 1304994,\n",
       " 1305153,\n",
       " 1305422,\n",
       " 1306573,\n",
       " 1307769,\n",
       " 1307948,\n",
       " 1307985,\n",
       " 1308945,\n",
       " 1309314,\n",
       " 1310386,\n",
       " 1311847,\n",
       " 1315462,\n",
       " 1319567,\n",
       " 1321216,\n",
       " 1324795,\n",
       " 1326638,\n",
       " 1327980,\n",
       " 1331057,\n",
       " 1331316,\n",
       " 1331510,\n",
       " 1331781,\n",
       " 1331933,\n",
       " 1334496,\n",
       " 1335662,\n",
       " 1337263,\n",
       " 1338496,\n",
       " 1338813,\n",
       " 1339076,\n",
       " 1340468,\n",
       " 1340596,\n",
       " 1343470,\n",
       " 1344496,\n",
       " 1348266,\n",
       " 1348430,\n",
       " 1351026,\n",
       " 1351148,\n",
       " 1352913,\n",
       " 1353222,\n",
       " 1353340,\n",
       " 1354946,\n",
       " 1358411,\n",
       " 1359721,\n",
       " 1364657,\n",
       " 1367042,\n",
       " 1367402,\n",
       " 1369923,\n",
       " 1370311,\n",
       " 1370913,\n",
       " 1371596,\n",
       " 1371634,\n",
       " 1373674,\n",
       " 1373822,\n",
       " 1373827,\n",
       " 1374243,\n",
       " 1375020,\n",
       " 1376277,\n",
       " 1377910,\n",
       " 1379551,\n",
       " 1380730,\n",
       " 1385068,\n",
       " 1385114,\n",
       " 1387346,\n",
       " 1389682,\n",
       " 1390729,\n",
       " 1391039,\n",
       " 1391141,\n",
       " 1391239,\n",
       " 1393150,\n",
       " 1393194,\n",
       " 1393837,\n",
       " 1394320,\n",
       " 1394606,\n",
       " 1396238,\n",
       " 1396995,\n",
       " 1405206,\n",
       " 1405609,\n",
       " 1406109,\n",
       " 1408556,\n",
       " 1410958,\n",
       " 1411109,\n",
       " 1411110,\n",
       " 1411124,\n",
       " 1414909,\n",
       " 1417256,\n",
       " 1418313,\n",
       " 1418902,\n",
       " 1420522,\n",
       " 1420713,\n",
       " 1421317,\n",
       " 1422156,\n",
       " 1422381,\n",
       " 1423918,\n",
       " 1425923,\n",
       " 1428423,\n",
       " 1433627,\n",
       " 1436860,\n",
       " 1440287,\n",
       " 1444223,\n",
       " 1446682,\n",
       " 1447820,\n",
       " 1449327,\n",
       " 1449535,\n",
       " 1451558,\n",
       " 1452116,\n",
       " 1455753,\n",
       " 1460577,\n",
       " 1464212,\n",
       " 1464979,\n",
       " 1466227,\n",
       " 1466945,\n",
       " 1468250,\n",
       " 1470334,\n",
       " 1471154,\n",
       " 1471529,\n",
       " 1471997,\n",
       " 1472265,\n",
       " 1472506,\n",
       " 1474461,\n",
       " 1475669,\n",
       " 1476009,\n",
       " 1477973,\n",
       " 1479143,\n",
       " ...]"
      ]
     },
     "execution_count": 14,
     "metadata": {},
     "output_type": "execute_result"
    }
   ],
   "source": [
    "error_indices = [i for i in range(len(word_vecs)) if word_vecs[i] is None]\n",
    "#error_indices"
   ]
  },
  {
   "cell_type": "markdown",
   "id": "1cc22125",
   "metadata": {},
   "source": [
    "## Drop records that threw an error"
   ]
  },
  {
   "cell_type": "code",
   "execution_count": 15,
   "id": "ff0d838b",
   "metadata": {},
   "outputs": [
    {
     "name": "stderr",
     "output_type": "stream",
     "text": [
      "100%|██████████| 1804874/1804874 [00:00<00:00, 2669459.80it/s]\n"
     ]
    }
   ],
   "source": [
    "X_train_w2v = [i for i in tqdm(word_vecs) if i is not None]"
   ]
  },
  {
   "cell_type": "code",
   "execution_count": 16,
   "id": "23a5c710",
   "metadata": {},
   "outputs": [],
   "source": [
    "X_train_w2v_df = pd.DataFrame(np.array(X_train_w2v))"
   ]
  },
  {
   "cell_type": "code",
   "execution_count": 17,
   "id": "c44db5f4",
   "metadata": {},
   "outputs": [
    {
     "data": {
      "text/plain": [
       "(1803664, 300)"
      ]
     },
     "execution_count": 17,
     "metadata": {},
     "output_type": "execute_result"
    }
   ],
   "source": [
    "X_train_w2v_df.shape"
   ]
  },
  {
   "cell_type": "code",
   "execution_count": 18,
   "id": "0c374dd6",
   "metadata": {},
   "outputs": [
    {
     "name": "stdout",
     "output_type": "stream",
     "text": [
      "1804874\n",
      "1803664\n"
     ]
    }
   ],
   "source": [
    "y_train_w2v = train['target']\n",
    "print(len(y_train_w2v))\n",
    "y_train_w2v.drop(y_train_w2v.index[error_indices], inplace=True)\n",
    "print(len(y_train_w2v))"
   ]
  },
  {
   "cell_type": "code",
   "execution_count": null,
   "id": "11b5da95",
   "metadata": {},
   "outputs": [],
   "source": [
    "X_train_w2v_df.to_csv('data/X_train_w2v.csv', index=False)\n",
    "y_train_w2v.to_csv('data/y_train_w2v.csv', index=False)"
   ]
  },
  {
   "cell_type": "code",
   "execution_count": null,
   "id": "4edf8d73",
   "metadata": {},
   "outputs": [],
   "source": [
    "X_train_w2v_df =pd.read_csv('data/X_train_w2v.csv')\n",
    "y_train_w2v =pd.read_csv('data/y_train_w2v.csv')"
   ]
  },
  {
   "cell_type": "markdown",
   "id": "de1930fa",
   "metadata": {},
   "source": [
    "## Split the data into 2 sets: 1) Training: 80%, 2) Testing: 20% and use Random Undersampling to balance the training set."
   ]
  },
  {
   "cell_type": "code",
   "execution_count": 19,
   "id": "94c7db17",
   "metadata": {},
   "outputs": [],
   "source": [
    "# define undersample strategy\n",
    "undersample = RandomUnderSampler(sampling_strategy='majority')"
   ]
  },
  {
   "cell_type": "code",
   "execution_count": 20,
   "id": "ccc72d60",
   "metadata": {},
   "outputs": [],
   "source": [
    "Y_train_w2v = np.where(y_train_w2v >=0.5,1.,0.)"
   ]
  },
  {
   "cell_type": "code",
   "execution_count": 21,
   "id": "e82d605b-2d92-4ec2-bf45-c808f049029c",
   "metadata": {},
   "outputs": [
    {
     "data": {
      "text/plain": [
       "array([0., 0., 0., ..., 0., 1., 0.])"
      ]
     },
     "execution_count": 21,
     "metadata": {},
     "output_type": "execute_result"
    }
   ],
   "source": [
    "Y_train_w2v"
   ]
  },
  {
   "cell_type": "code",
   "execution_count": 22,
   "id": "f76f5cb6",
   "metadata": {},
   "outputs": [],
   "source": [
    "X_train_w2v, X_test_w2v, Y_train_w2v, Y_test_w2v=train_test_split(X_train_w2v_df, Y_train_w2v, test_size=0.2)"
   ]
  },
  {
   "cell_type": "code",
   "execution_count": 23,
   "id": "817467ba",
   "metadata": {},
   "outputs": [],
   "source": [
    "X_over_w2v, y_over_w2v = undersample.fit_resample(X_train_w2v, Y_train_w2v)"
   ]
  },
  {
   "cell_type": "code",
   "execution_count": 24,
   "id": "44b93259",
   "metadata": {},
   "outputs": [
    {
     "data": {
      "text/plain": [
       "230524"
      ]
     },
     "execution_count": 24,
     "metadata": {},
     "output_type": "execute_result"
    }
   ],
   "source": [
    "len(y_over_w2v)"
   ]
  },
  {
   "cell_type": "code",
   "execution_count": 25,
   "id": "4f524c4d",
   "metadata": {},
   "outputs": [
    {
     "data": {
      "text/plain": [
       "(array([0., 1.]), array([115262, 115262], dtype=int64))"
      ]
     },
     "execution_count": 25,
     "metadata": {},
     "output_type": "execute_result"
    }
   ],
   "source": [
    "np.unique(y_over_w2v, return_counts=True)"
   ]
  },
  {
   "cell_type": "markdown",
   "id": "e4de7d87",
   "metadata": {},
   "source": [
    "## Use 5-fold Cross Validation and XGBoost to evaluate the training set"
   ]
  },
  {
   "cell_type": "code",
   "execution_count": 26,
   "id": "b6eec3e7",
   "metadata": {},
   "outputs": [],
   "source": [
    "kfold = KFold(n_splits=5, random_state=7, shuffle=True)"
   ]
  },
  {
   "cell_type": "code",
   "execution_count": null,
   "id": "63046fa2",
   "metadata": {},
   "outputs": [],
   "source": [
    "XGB=XGBClassifier()#verbosity=1)\n",
    "results = cross_val_score(XGB, X_over_w2v, y_over_w2v, cv=kfold, scoring='precision', verbose=3)\n",
    "print(\"Precision: %.3f%% (%.3f%%)\" % (results.mean()*100.0, results.std()*100.0))"
   ]
  },
  {
   "cell_type": "code",
   "execution_count": null,
   "id": "f84b718a",
   "metadata": {},
   "outputs": [],
   "source": [
    "XGB=XGBClassifier()\n",
    "results = cross_val_score(XGB, X_over_w2v, y_over_w2v, cv=kfold, scoring='recall', verbose=3)\n",
    "print(\"Recall: %.3f%% (%.3f%%)\" % (results.mean()*100.0, results.std()*100.0))"
   ]
  },
  {
   "cell_type": "code",
   "execution_count": null,
   "id": "ffe49bfc-32ed-4925-a963-1e5a0d163ee4",
   "metadata": {},
   "outputs": [],
   "source": [
    "XGB=XGBClassifier()\n",
    "results = cross_val_score(XGB, X_over_w2v, y_over_w2v, cv=kfold, scoring='f1', verbose=3)\n",
    "print(\"F1: %.3f%% (%.3f%%)\" % (results.mean()*100.0, results.std()*100.0))"
   ]
  },
  {
   "cell_type": "code",
   "execution_count": null,
   "id": "c82f4903-8df9-4eb0-936f-011d403b6cfc",
   "metadata": {},
   "outputs": [],
   "source": [
    "XGB=XGBClassifier()\n",
    "results = cross_val_score(XGB, X_over_w2v, y_over_w2v, cv=kfold, scoring='accuracy', verbose=3)\n",
    "print(\"Accuracy: %.3f%% (%.3f%%)\" % (results.mean()*100.0, results.std()*100.0))"
   ]
  },
  {
   "cell_type": "code",
   "execution_count": null,
   "id": "e95a75ae",
   "metadata": {},
   "outputs": [],
   "source": [
    "XGB=XGBClassifier(verbosity=1)"
   ]
  },
  {
   "cell_type": "code",
   "execution_count": null,
   "id": "44926594",
   "metadata": {},
   "outputs": [],
   "source": [
    "XGB.fit(X_over_w2v, y_over_w2v)"
   ]
  },
  {
   "cell_type": "code",
   "execution_count": null,
   "id": "7ef513fe-a361-4858-a4a5-98be8d7ef08e",
   "metadata": {},
   "outputs": [],
   "source": [
    "XGB.predict_proba(X_test_w2v)"
   ]
  },
  {
   "cell_type": "code",
   "execution_count": null,
   "id": "a63ee437-bb29-4ced-b999-fa58c07e5a9b",
   "metadata": {},
   "outputs": [],
   "source": [
    "XGB.predict(X_test_w2v)"
   ]
  },
  {
   "cell_type": "code",
   "execution_count": null,
   "id": "cef21eb4-5950-452a-8cf1-4f991f81f8f1",
   "metadata": {},
   "outputs": [],
   "source": [
    "confusion_matrix(Y_test_w2v, XGB.predict(X_test_w2v))"
   ]
  },
  {
   "cell_type": "code",
   "execution_count": null,
   "id": "685e21a1-c0bf-47ef-a8bf-e2cea32573c9",
   "metadata": {},
   "outputs": [],
   "source": [
    "print(classification_report(Y_test_w2v, XGB.predict(X_test_w2v)))"
   ]
  },
  {
   "cell_type": "code",
   "execution_count": null,
   "id": "16c40921-13da-41e6-95a2-ece785bd97ef",
   "metadata": {},
   "outputs": [],
   "source": [
    "XGB.score(X_test_w2v, Y_test_w2v)"
   ]
  },
  {
   "cell_type": "code",
   "execution_count": null,
   "id": "c0df2c73-aa40-4437-ac7f-07088dc8f150",
   "metadata": {},
   "outputs": [],
   "source": [
    "precision_score(Y_test_w2v, XGB.predict(X_test_w2v))"
   ]
  },
  {
   "cell_type": "code",
   "execution_count": null,
   "id": "d813f1cd-e924-4bc1-966e-4762f5fa483b",
   "metadata": {},
   "outputs": [],
   "source": [
    "recall_score(Y_test_w2v, XGB.predict(X_test_w2v))"
   ]
  },
  {
   "cell_type": "code",
   "execution_count": null,
   "id": "fc1b6a72-6ed1-45ee-94f4-8b5925252adf",
   "metadata": {},
   "outputs": [],
   "source": [
    "f1_score(Y_test_w2v, XGB.predict(X_test_w2v))"
   ]
  },
  {
   "cell_type": "code",
   "execution_count": null,
   "id": "7d119d48-d18b-4567-99a9-3175b8d38e9f",
   "metadata": {},
   "outputs": [],
   "source": [
    "accuracy_score(Y_test_w2v, XGB.predict(X_test_w2v))"
   ]
  },
  {
   "cell_type": "code",
   "execution_count": null,
   "id": "891fd236-b081-41f1-ba3c-622b66dc066d",
   "metadata": {},
   "outputs": [],
   "source": []
  },
  {
   "cell_type": "code",
   "execution_count": null,
   "id": "90d4d0eb",
   "metadata": {},
   "outputs": [],
   "source": [
    "XGB.predict(X_test_w2v)"
   ]
  },
  {
   "cell_type": "code",
   "execution_count": null,
   "id": "f7f8199a-f04f-4ac0-917c-c876c80ce9e5",
   "metadata": {},
   "outputs": [],
   "source": [
    "del XGB"
   ]
  },
  {
   "cell_type": "markdown",
   "id": "26cb2a2c-6ab1-496e-aab1-8e0af4d167be",
   "metadata": {},
   "source": [
    "## Implementing MLP"
   ]
  },
  {
   "cell_type": "markdown",
   "id": "a1f66994-8628-44d5-8a3a-4c613ea24517",
   "metadata": {},
   "source": [
    "### Holding out 10% as a validation set"
   ]
  },
  {
   "cell_type": "code",
   "execution_count": null,
   "id": "0cea3a01",
   "metadata": {},
   "outputs": [],
   "source": [
    "from keras.models import Sequential\n",
    "from keras.layers import Dense\n",
    "nn_class2 = Sequential()\n",
    "n_hidden = 64\n",
    "n_input = X_over_w2v.shape[1]\n",
    "\n",
    "# hidden layers\n",
    "nn_class2.add(Dense(units=n_hidden, activation='relu',input_shape=(n_input,)))\n",
    "nn_class2.add(Dense(units=n_hidden, activation='relu'))\n",
    "nn_class2.add(Dense(units=n_hidden, activation='relu'))\n",
    "nn_class2.add(Dense(units=n_hidden, activation='relu'))\n",
    "nn_class2.add(Dense(units=n_hidden, activation='relu'))\n",
    "nn_class2.add(Dense(units=n_hidden, activation='relu'))\n",
    "\n",
    "# output layer\n",
    "nn_class2.add(Dense(units=1, activation='sigmoid'))\n",
    "nn_class2.compile(loss='binary_crossentropy', optimizer='adam', metrics=['accuracy'])\n",
    "nn_class2.summary()"
   ]
  },
  {
   "cell_type": "code",
   "execution_count": null,
   "id": "9e266ba2",
   "metadata": {},
   "outputs": [],
   "source": [
    "batch_size = 64\n",
    "n_epochs = 150\n",
    "history = nn_class2.fit(X_over_w2v, y_over_w2v, epochs=n_epochs, batch_size=batch_size, validation_split=0.1)"
   ]
  },
  {
   "cell_type": "code",
   "execution_count": null,
   "id": "e87699dc",
   "metadata": {},
   "outputs": [],
   "source": [
    "fig, ax = plt.subplots(figsize=(8,5))\n",
    "ax.plot(history.history['accuracy'], label='Train Accuracy')\n",
    "ax.plot(history.history['val_accuracy'], label='Validation Accuracy')\n",
    "ax.set_title(\"Accuracy vs. epochs\", fontsize=15)\n",
    "ax.set_xlabel(\"epoch number\", fontsize=14)\n",
    "ax.legend(fontsize=12)\n",
    "#ax.set_ylim(0.0875,0.1)\n",
    "ax.grid();"
   ]
  },
  {
   "cell_type": "code",
   "execution_count": null,
   "id": "5ee968dc",
   "metadata": {},
   "outputs": [],
   "source": [
    "fig.savefig('ValidationSet_LogLoss_Plot_Classification.pdf')"
   ]
  },
  {
   "cell_type": "code",
   "execution_count": null,
   "id": "a8c04f1c",
   "metadata": {},
   "outputs": [],
   "source": [
    "nn_class2.evaluate(x=X_test_w2v, y=Y_test_w2v)"
   ]
  },
  {
   "cell_type": "code",
   "execution_count": null,
   "id": "6b81ec90",
   "metadata": {},
   "outputs": [],
   "source": [
    "predictions = nn_class2.predict(X_test_w2v)\n",
    "predictions"
   ]
  },
  {
   "cell_type": "markdown",
   "id": "ee72e9a1-8fcf-4a19-9380-599a02a572bb",
   "metadata": {},
   "source": [
    "### Holding out 10% as a validation set and implementing early stopping"
   ]
  },
  {
   "cell_type": "code",
   "execution_count": null,
   "id": "527eaedf",
   "metadata": {},
   "outputs": [],
   "source": [
    "early_stoping = EarlyStopping(monitor='val_accuracy',\n",
    "                min_delta=5,\n",
    "                patience=20,\n",
    "                verbose=1,\n",
    "                mode='auto')"
   ]
  },
  {
   "cell_type": "code",
   "execution_count": null,
   "id": "7550c126",
   "metadata": {},
   "outputs": [],
   "source": [
    "nn_class2 = Sequential()\n",
    "n_hidden = 64\n",
    "n_input = X_over_w2v.shape[1]\n",
    "\n",
    "# hidden layers\n",
    "nn_class2.add(Dense(units=n_hidden, activation='relu',input_shape=(n_input,)))\n",
    "nn_class2.add(Dense(units=n_hidden, activation='relu'))\n",
    "nn_class2.add(Dense(units=n_hidden, activation='relu'))\n",
    "nn_class2.add(Dense(units=n_hidden, activation='relu'))\n",
    "nn_class2.add(Dense(units=n_hidden, activation='relu'))\n",
    "nn_class2.add(Dense(units=n_hidden, activation='relu'))\n",
    "\n",
    "# output layer\n",
    "nn_class2.add(Dense(units=1, activation='sigmoid'))\n",
    "nn_class2.compile(loss='binary_crossentropy', optimizer='adam', metrics=['accuracy'])\n",
    "nn_class2.summary()"
   ]
  },
  {
   "cell_type": "code",
   "execution_count": null,
   "id": "2661884b",
   "metadata": {},
   "outputs": [],
   "source": [
    "batch_size = 64\n",
    "n_epochs = 150\n",
    "history = nn_class2.fit(X_over_w2v, y_over_w2v,\n",
    "epochs=n_epochs,\n",
    "batch_size=batch_size,\n",
    "validation_split=0.1,\n",
    "callbacks=[early_stoping])"
   ]
  },
  {
   "cell_type": "code",
   "execution_count": null,
   "id": "25a9b065",
   "metadata": {},
   "outputs": [],
   "source": [
    "fig, ax = plt.subplots(figsize=(8,5))\n",
    "ax.plot(history.history['accuracy'], label='Train Accuracy')\n",
    "ax.plot(history.history['val_accuracy'], label='Validation Accuracy')\n",
    "ax.set_title(\"Accuracy vs. epochs\", fontsize=15)\n",
    "ax.set_xlabel(\"epoch number\", fontsize=14)\n",
    "ax.legend(fontsize=12)\n",
    "#ax.set_ylim(0.0875,0.1)\n",
    "ax.grid();"
   ]
  },
  {
   "cell_type": "code",
   "execution_count": null,
   "id": "8729124d",
   "metadata": {},
   "outputs": [],
   "source": [
    "fig.savefig('2 - EarlyStopping_LogLoss_Plot_Classification.pdf')"
   ]
  },
  {
   "cell_type": "code",
   "execution_count": null,
   "id": "e235008d",
   "metadata": {},
   "outputs": [],
   "source": [
    "nn_class2.evaluate(x=X_test_w2v, y=Y_test_w2v)#, batch_size=2)"
   ]
  },
  {
   "cell_type": "code",
   "execution_count": null,
   "id": "cb658f55",
   "metadata": {},
   "outputs": [],
   "source": [
    "predictions = nn_class2.predict(X_test_w2v)\n",
    "predictions"
   ]
  },
  {
   "cell_type": "markdown",
   "id": "4b43015b-a088-4bb9-b64b-f122f349ad0d",
   "metadata": {},
   "source": [
    "### Holding out 10% as a validation set and implementing early stopping & dropout"
   ]
  },
  {
   "cell_type": "code",
   "execution_count": 40,
   "id": "53e23bf7",
   "metadata": {},
   "outputs": [
    {
     "name": "stdout",
     "output_type": "stream",
     "text": [
      "Model: \"sequential_4\"\n",
      "_________________________________________________________________\n",
      " Layer (type)                Output Shape              Param #   \n",
      "=================================================================\n",
      " dropout (Dropout)           (None, 300)               0         \n",
      "                                                                 \n",
      " dense_3 (Dense)             (None, 64)                19264     \n",
      "                                                                 \n",
      " dropout_1 (Dropout)         (None, 64)                0         \n",
      "                                                                 \n",
      " dense_4 (Dense)             (None, 64)                4160      \n",
      "                                                                 \n",
      " dropout_2 (Dropout)         (None, 64)                0         \n",
      "                                                                 \n",
      " dense_5 (Dense)             (None, 64)                4160      \n",
      "                                                                 \n",
      " dropout_3 (Dropout)         (None, 64)                0         \n",
      "                                                                 \n",
      " dense_6 (Dense)             (None, 64)                4160      \n",
      "                                                                 \n",
      " dropout_4 (Dropout)         (None, 64)                0         \n",
      "                                                                 \n",
      " dense_7 (Dense)             (None, 64)                4160      \n",
      "                                                                 \n",
      " dropout_5 (Dropout)         (None, 64)                0         \n",
      "                                                                 \n",
      " dense_8 (Dense)             (None, 64)                4160      \n",
      "                                                                 \n",
      " dropout_6 (Dropout)         (None, 64)                0         \n",
      "                                                                 \n",
      " dense_9 (Dense)             (None, 1)                 65        \n",
      "                                                                 \n",
      "=================================================================\n",
      "Total params: 40,129\n",
      "Trainable params: 40,129\n",
      "Non-trainable params: 0\n",
      "_________________________________________________________________\n"
     ]
    }
   ],
   "source": [
    "nn_class_dropout = Sequential()\n",
    "n_hidden = 64\n",
    "dropout_rate = 0.3\n",
    "n_input = X_over_w2v.shape[1]\n",
    "\n",
    "## Dropout for input layer\n",
    "nn_class_dropout.add(Dropout(rate=dropout_rate, input_shape=(n_input,)))\n",
    "\n",
    "## Now adding four hidden layers + dropout for each of them\n",
    "nn_class_dropout.add(Dense(units=n_hidden, activation='relu',input_shape=(n_input,)))\n",
    "nn_class_dropout.add(Dropout(rate=dropout_rate))\n",
    "nn_class_dropout.add(Dense(units=n_hidden, activation='relu'))\n",
    "nn_class_dropout.add(Dropout(rate=dropout_rate))\n",
    "nn_class_dropout.add(Dense(units=n_hidden, activation='relu'))\n",
    "nn_class_dropout.add(Dropout(rate=dropout_rate))\n",
    "nn_class_dropout.add(Dense(units=n_hidden, activation='relu'))\n",
    "nn_class_dropout.add(Dropout(rate=dropout_rate))\n",
    "nn_class_dropout.add(Dense(units=n_hidden, activation='relu'))\n",
    "nn_class_dropout.add(Dropout(rate=dropout_rate))\n",
    "nn_class_dropout.add(Dense(units=n_hidden, activation='relu'))\n",
    "nn_class_dropout.add(Dropout(rate=dropout_rate))\n",
    "nn_class_dropout.add(Dense(units=1, activation='sigmoid'))\n",
    "\n",
    "nn_class_dropout.summary()"
   ]
  },
  {
   "cell_type": "code",
   "execution_count": 41,
   "id": "d3f4598b",
   "metadata": {},
   "outputs": [],
   "source": [
    "nn_class_dropout.compile(loss='binary_crossentropy', optimizer='adam',\n",
    "metrics=['accuracy'])"
   ]
  },
  {
   "cell_type": "code",
   "execution_count": 42,
   "id": "2c7830b7",
   "metadata": {},
   "outputs": [
    {
     "name": "stdout",
     "output_type": "stream",
     "text": [
      "Epoch 1/300\n",
      "3242/3242 [==============================] - 27s 8ms/step - loss: 0.5047 - accuracy: 0.7583 - val_loss: 0.3690 - val_accuracy: 0.8240\n",
      "Epoch 2/300\n",
      "3242/3242 [==============================] - 27s 8ms/step - loss: 0.4764 - accuracy: 0.7774 - val_loss: 0.3754 - val_accuracy: 0.8241\n",
      "Epoch 3/300\n",
      "3242/3242 [==============================] - 26s 8ms/step - loss: 0.4711 - accuracy: 0.7816 - val_loss: 0.3899 - val_accuracy: 0.8600\n",
      "Epoch 4/300\n",
      "3242/3242 [==============================] - 26s 8ms/step - loss: 0.4686 - accuracy: 0.7816 - val_loss: 0.3661 - val_accuracy: 0.8543\n",
      "Epoch 5/300\n",
      "3242/3242 [==============================] - 26s 8ms/step - loss: 0.4665 - accuracy: 0.7833 - val_loss: 0.3488 - val_accuracy: 0.8482\n",
      "Epoch 6/300\n",
      "3242/3242 [==============================] - 26s 8ms/step - loss: 0.4636 - accuracy: 0.7852 - val_loss: 0.3717 - val_accuracy: 0.8522\n",
      "Epoch 7/300\n",
      "3242/3242 [==============================] - 28s 9ms/step - loss: 0.4614 - accuracy: 0.7860 - val_loss: 0.3776 - val_accuracy: 0.8501\n",
      "Epoch 8/300\n",
      "3242/3242 [==============================] - 26s 8ms/step - loss: 0.4612 - accuracy: 0.7866 - val_loss: 0.3211 - val_accuracy: 0.8856\n",
      "Epoch 9/300\n",
      "3242/3242 [==============================] - 25s 8ms/step - loss: 0.4601 - accuracy: 0.7867 - val_loss: 0.3556 - val_accuracy: 0.8573\n",
      "Epoch 10/300\n",
      "3242/3242 [==============================] - 26s 8ms/step - loss: 0.4605 - accuracy: 0.7867 - val_loss: 0.3404 - val_accuracy: 0.8807\n",
      "Epoch 11/300\n",
      "3242/3242 [==============================] - 25s 8ms/step - loss: 0.4590 - accuracy: 0.7885 - val_loss: 0.3335 - val_accuracy: 0.8933\n",
      "Epoch 12/300\n",
      "3242/3242 [==============================] - 26s 8ms/step - loss: 0.4587 - accuracy: 0.7876 - val_loss: 0.3445 - val_accuracy: 0.8752\n",
      "Epoch 13/300\n",
      "3242/3242 [==============================] - 25s 8ms/step - loss: 0.4569 - accuracy: 0.7888 - val_loss: 0.3219 - val_accuracy: 0.8926\n",
      "Epoch 14/300\n",
      "3242/3242 [==============================] - 26s 8ms/step - loss: 0.4570 - accuracy: 0.7891 - val_loss: 0.3545 - val_accuracy: 0.8758\n",
      "Epoch 15/300\n",
      "3242/3242 [==============================] - 26s 8ms/step - loss: 0.4558 - accuracy: 0.7900 - val_loss: 0.3251 - val_accuracy: 0.8724\n",
      "Epoch 16/300\n",
      "3242/3242 [==============================] - 26s 8ms/step - loss: 0.4557 - accuracy: 0.7901 - val_loss: 0.3551 - val_accuracy: 0.8561\n",
      "Epoch 17/300\n",
      "3242/3242 [==============================] - 27s 8ms/step - loss: 0.4557 - accuracy: 0.7889 - val_loss: 0.3472 - val_accuracy: 0.8716\n",
      "Epoch 18/300\n",
      "3242/3242 [==============================] - 25s 8ms/step - loss: 0.4563 - accuracy: 0.7896 - val_loss: 0.3318 - val_accuracy: 0.8770\n",
      "Epoch 19/300\n",
      "3242/3242 [==============================] - 25s 8ms/step - loss: 0.4551 - accuracy: 0.7904 - val_loss: 0.3512 - val_accuracy: 0.8634\n",
      "Epoch 20/300\n",
      "3242/3242 [==============================] - 26s 8ms/step - loss: 0.4547 - accuracy: 0.7896 - val_loss: 0.3500 - val_accuracy: 0.8657\n",
      "Epoch 21/300\n",
      "3242/3242 [==============================] - 27s 8ms/step - loss: 0.4540 - accuracy: 0.7900 - val_loss: 0.3776 - val_accuracy: 0.8623\n",
      "Epoch 22/300\n",
      "3242/3242 [==============================] - 26s 8ms/step - loss: 0.4546 - accuracy: 0.7903 - val_loss: 0.3490 - val_accuracy: 0.8505\n",
      "Epoch 23/300\n",
      "3242/3242 [==============================] - 26s 8ms/step - loss: 0.4543 - accuracy: 0.7901 - val_loss: 0.3536 - val_accuracy: 0.8478\n",
      "Epoch 24/300\n",
      "3242/3242 [==============================] - 25s 8ms/step - loss: 0.4543 - accuracy: 0.7904 - val_loss: 0.3228 - val_accuracy: 0.8768\n",
      "Epoch 25/300\n",
      "3242/3242 [==============================] - 26s 8ms/step - loss: 0.4533 - accuracy: 0.7909 - val_loss: 0.3444 - val_accuracy: 0.8675\n",
      "Epoch 26/300\n",
      "3242/3242 [==============================] - 26s 8ms/step - loss: 0.4534 - accuracy: 0.7897 - val_loss: 0.3820 - val_accuracy: 0.8530\n",
      "Epoch 27/300\n",
      "3242/3242 [==============================] - 26s 8ms/step - loss: 0.4528 - accuracy: 0.7916 - val_loss: 0.3551 - val_accuracy: 0.8507\n",
      "Epoch 28/300\n",
      "3242/3242 [==============================] - 25s 8ms/step - loss: 0.4518 - accuracy: 0.7912 - val_loss: 0.3264 - val_accuracy: 0.8814\n",
      "Epoch 29/300\n",
      "3242/3242 [==============================] - 26s 8ms/step - loss: 0.4528 - accuracy: 0.7908 - val_loss: 0.3553 - val_accuracy: 0.8646\n",
      "Epoch 30/300\n",
      "3242/3242 [==============================] - 27s 8ms/step - loss: 0.4526 - accuracy: 0.7918 - val_loss: 0.3640 - val_accuracy: 0.8718\n",
      "Epoch 31/300\n",
      "3242/3242 [==============================] - 26s 8ms/step - loss: 0.4525 - accuracy: 0.7907 - val_loss: 0.3707 - val_accuracy: 0.8416\n",
      "Epoch 32/300\n",
      "3242/3242 [==============================] - 25s 8ms/step - loss: 0.4521 - accuracy: 0.7918 - val_loss: 0.3514 - val_accuracy: 0.8693\n",
      "Epoch 33/300\n",
      "3242/3242 [==============================] - 25s 8ms/step - loss: 0.4524 - accuracy: 0.7912 - val_loss: 0.3399 - val_accuracy: 0.8669\n",
      "Epoch 34/300\n",
      "3242/3242 [==============================] - 26s 8ms/step - loss: 0.4520 - accuracy: 0.7912 - val_loss: 0.3499 - val_accuracy: 0.8646\n",
      "Epoch 35/300\n",
      "3242/3242 [==============================] - 27s 8ms/step - loss: 0.4515 - accuracy: 0.7914 - val_loss: 0.3394 - val_accuracy: 0.8679\n",
      "Epoch 36/300\n",
      "3242/3242 [==============================] - 26s 8ms/step - loss: 0.4510 - accuracy: 0.7925 - val_loss: 0.3290 - val_accuracy: 0.8749\n",
      "Epoch 37/300\n",
      "3242/3242 [==============================] - 25s 8ms/step - loss: 0.4526 - accuracy: 0.7920 - val_loss: 0.3351 - val_accuracy: 0.8870\n",
      "Epoch 38/300\n",
      "3242/3242 [==============================] - 26s 8ms/step - loss: 0.4505 - accuracy: 0.7927 - val_loss: 0.3583 - val_accuracy: 0.8673\n",
      "Epoch 39/300\n",
      "3242/3242 [==============================] - 26s 8ms/step - loss: 0.4512 - accuracy: 0.7927 - val_loss: 0.3654 - val_accuracy: 0.8628\n",
      "Epoch 40/300\n",
      "3242/3242 [==============================] - 27s 8ms/step - loss: 0.4516 - accuracy: 0.7918 - val_loss: 0.3363 - val_accuracy: 0.8636\n",
      "Epoch 41/300\n",
      "3242/3242 [==============================] - 26s 8ms/step - loss: 0.4506 - accuracy: 0.7926 - val_loss: 0.3513 - val_accuracy: 0.8682\n",
      "Epoch 41: early stopping\n"
     ]
    }
   ],
   "source": [
    "batch_size = 64\n",
    "n_epochs = 300\n",
    "early_stoping = EarlyStopping(monitor='val_accuracy',\n",
    "                min_delta=5,\n",
    "                patience=40,\n",
    "                verbose=1,\n",
    "                mode='auto')\n",
    "\n",
    "history = nn_class_dropout.fit(X_over_w2v, y_over_w2v,\n",
    "                            epochs=n_epochs,\n",
    "                            batch_size=batch_size,\n",
    "                            validation_split=0.1,\n",
    "                            callbacks=[early_stoping])"
   ]
  },
  {
   "cell_type": "code",
   "execution_count": 43,
   "id": "a35c9837",
   "metadata": {},
   "outputs": [
    {
     "data": {
      "image/png": "[encoded data removed]",
      "text/plain": [
       "<Figure size 800x500 with 1 Axes>"
      ]
     },
     "metadata": {},
     "output_type": "display_data"
    }
   ],
   "source": [
    "fig, ax = plt.subplots(figsize=(8,5))\n",
    "ax.plot(history.history['accuracy'], label='Train Accuracy')\n",
    "ax.plot(history.history['val_accuracy'], label='Validation Accuracy')\n",
    "ax.set_title(\"Accuracy vs. epochs using dropout\", fontsize=15)\n",
    "ax.set_xlabel(\"epoch number\", fontsize=14)\n",
    "ax.legend(fontsize=12)\n",
    "ax.grid();"
   ]
  },
  {
   "cell_type": "code",
   "execution_count": 44,
   "id": "a0c03b1a",
   "metadata": {},
   "outputs": [],
   "source": [
    "fig.savefig('3. Dropout_LogLoss_Plot_Classification.pdf')"
   ]
  },
  {
   "cell_type": "code",
   "execution_count": 45,
   "id": "bdb07cd1",
   "metadata": {},
   "outputs": [
    {
     "name": "stdout",
     "output_type": "stream",
     "text": [
      "11273/11273 [==============================] - 47s 4ms/step - loss: 0.5223 - accuracy: 0.7533\n"
     ]
    },
    {
     "data": {
      "text/plain": [
       "[0.5223019123077393, 0.7533383369445801]"
      ]
     },
     "execution_count": 45,
     "metadata": {},
     "output_type": "execute_result"
    }
   ],
   "source": [
    "nn_class_dropout.evaluate(x=X_test_w2v, y=Y_test_w2v)"
   ]
  },
  {
   "cell_type": "code",
   "execution_count": null,
   "id": "b8975e4c",
   "metadata": {},
   "outputs": [],
   "source": [
    "predictions = nn_class_dropout.predict(X_test_w2v)\n",
    "predictions"
   ]
  },
  {
   "cell_type": "code",
   "execution_count": 46,
   "id": "4f916829-3930-4a10-8d77-1a3548ac6b79",
   "metadata": {},
   "outputs": [
    {
     "name": "stdout",
     "output_type": "stream",
     "text": [
      "11273/11273 [==============================] - 25s 2ms/step\n"
     ]
    },
    {
     "data": {
      "text/plain": [
       "array([[1],\n",
       "       [0],\n",
       "       [0],\n",
       "       ...,\n",
       "       [0],\n",
       "       [0],\n",
       "       [0]])"
      ]
     },
     "execution_count": 46,
     "metadata": {},
     "output_type": "execute_result"
    }
   ],
   "source": [
    "threshold = 0.5\n",
    "nn_class_dropout_predictions = np.where(nn_class_dropout.predict(X_test_w2v) > threshold, 1,0)\n",
    "nn_class_dropout_predictions"
   ]
  },
  {
   "cell_type": "code",
   "execution_count": 60,
   "id": "4f7e7585-7269-484a-b45d-63ac7f435e19",
   "metadata": {},
   "outputs": [
    {
     "name": "stdout",
     "output_type": "stream",
     "text": [
      "45092/45092 [==============================] - 104s 2ms/step\n"
     ]
    },
    {
     "data": {
      "text/plain": [
       "array([[1],\n",
       "       [0],\n",
       "       [0],\n",
       "       ...,\n",
       "       [0],\n",
       "       [1],\n",
       "       [1]])"
      ]
     },
     "execution_count": 60,
     "metadata": {},
     "output_type": "execute_result"
    }
   ],
   "source": [
    "threshold = 0.5\n",
    "nn_class_dropout_predictions_train = np.where(nn_class_dropout.predict(X_train_w2v) >= threshold, 1,0)\n",
    "nn_class_dropout_predictions_train"
   ]
  },
  {
   "cell_type": "code",
   "execution_count": 61,
   "id": "2658b816-c9fc-4551-853e-52c1aab7a933",
   "metadata": {},
   "outputs": [
    {
     "data": {
      "text/plain": [
       "array([[987786, 339883],\n",
       "       [ 14251, 101011]], dtype=int64)"
      ]
     },
     "execution_count": 61,
     "metadata": {},
     "output_type": "execute_result"
    }
   ],
   "source": [
    "confusion_matrix(Y_train_w2v, nn_class_dropout_predictions_train)"
   ]
  },
  {
   "cell_type": "code",
   "execution_count": 62,
   "id": "c2d24e46-8707-4ad0-8d9c-cd3d593a4aec",
   "metadata": {},
   "outputs": [
    {
     "name": "stdout",
     "output_type": "stream",
     "text": [
      "              precision    recall  f1-score   support\n",
      "\n",
      "         0.0       0.99      0.74      0.85   1327669\n",
      "         1.0       0.23      0.88      0.36    115262\n",
      "\n",
      "    accuracy                           0.75   1442931\n",
      "   macro avg       0.61      0.81      0.61   1442931\n",
      "weighted avg       0.93      0.75      0.81   1442931\n",
      "\n"
     ]
    }
   ],
   "source": [
    "print(classification_report(Y_train_w2v, nn_class_dropout_predictions_train))"
   ]
  },
  {
   "cell_type": "code",
   "execution_count": 63,
   "id": "655680f0-6ca2-4ce1-80b2-e95800f08fa8",
   "metadata": {},
   "outputs": [
    {
     "data": {
      "text/plain": [
       "0.2291049549324781"
      ]
     },
     "execution_count": 63,
     "metadata": {},
     "output_type": "execute_result"
    }
   ],
   "source": [
    "precision_score(Y_train_w2v, nn_class_dropout_predictions_train)"
   ]
  },
  {
   "cell_type": "code",
   "execution_count": 64,
   "id": "1aba0fd3-9e74-4439-b97d-444f574cce94",
   "metadata": {},
   "outputs": [
    {
     "data": {
      "text/plain": [
       "0.876359945168399"
      ]
     },
     "execution_count": 64,
     "metadata": {},
     "output_type": "execute_result"
    }
   ],
   "source": [
    "recall_score(Y_train_w2v, nn_class_dropout_predictions_train)"
   ]
  },
  {
   "cell_type": "code",
   "execution_count": 65,
   "id": "1b829c4c-0946-4a32-91f1-f05beabefc93",
   "metadata": {},
   "outputs": [
    {
     "data": {
      "text/plain": [
       "0.3632470026395471"
      ]
     },
     "execution_count": 65,
     "metadata": {},
     "output_type": "execute_result"
    }
   ],
   "source": [
    "f1_score(Y_train_w2v, nn_class_dropout_predictions_train)"
   ]
  },
  {
   "cell_type": "code",
   "execution_count": 66,
   "id": "0ecd7f24-1620-4a2f-9587-a90c8d4eb1e8",
   "metadata": {},
   "outputs": [
    {
     "data": {
      "text/plain": [
       "0.7545731569978051"
      ]
     },
     "execution_count": 66,
     "metadata": {},
     "output_type": "execute_result"
    }
   ],
   "source": [
    "accuracy_score(Y_train_w2v, nn_class_dropout_predictions_train)"
   ]
  },
  {
   "cell_type": "code",
   "execution_count": null,
   "id": "8ae1e1d4-8514-4a96-84de-09143270a3a0",
   "metadata": {},
   "outputs": [],
   "source": []
  },
  {
   "cell_type": "code",
   "execution_count": 54,
   "id": "6bfcdf5a-2bfe-45e8-88ed-f75f80f5b5c3",
   "metadata": {},
   "outputs": [
    {
     "data": {
      "text/plain": [
       "array([[246521,  85177],\n",
       "       [  3802,  25233]], dtype=int64)"
      ]
     },
     "execution_count": 54,
     "metadata": {},
     "output_type": "execute_result"
    }
   ],
   "source": [
    "confusion_matrix(Y_test_w2v, nn_class_dropout_predictions)"
   ]
  },
  {
   "cell_type": "code",
   "execution_count": 55,
   "id": "35716014-9acf-42a7-97af-26f1fdcb93eb",
   "metadata": {},
   "outputs": [
    {
     "name": "stdout",
     "output_type": "stream",
     "text": [
      "              precision    recall  f1-score   support\n",
      "\n",
      "         0.0       0.98      0.74      0.85    331698\n",
      "         1.0       0.23      0.87      0.36     29035\n",
      "\n",
      "    accuracy                           0.75    360733\n",
      "   macro avg       0.61      0.81      0.60    360733\n",
      "weighted avg       0.92      0.75      0.81    360733\n",
      "\n"
     ]
    }
   ],
   "source": [
    "print(classification_report(Y_test_w2v, nn_class_dropout_predictions))"
   ]
  },
  {
   "cell_type": "code",
   "execution_count": 56,
   "id": "49d88023-f785-477b-8f46-2b2c0d58c2ca",
   "metadata": {},
   "outputs": [
    {
     "data": {
      "text/plain": [
       "0.22853908160492709"
      ]
     },
     "execution_count": 56,
     "metadata": {},
     "output_type": "execute_result"
    }
   ],
   "source": [
    "precision_score(Y_test_w2v, nn_class_dropout_predictions)"
   ]
  },
  {
   "cell_type": "code",
   "execution_count": 57,
   "id": "de15db58-f63e-4695-8c50-44ff104795db",
   "metadata": {},
   "outputs": [
    {
     "data": {
      "text/plain": [
       "0.8690545892887894"
      ]
     },
     "execution_count": 57,
     "metadata": {},
     "output_type": "execute_result"
    }
   ],
   "source": [
    "recall_score(Y_test_w2v, nn_class_dropout_predictions)"
   ]
  },
  {
   "cell_type": "code",
   "execution_count": 58,
   "id": "c5162201-097b-4927-b578-fbfc40d2ae1a",
   "metadata": {},
   "outputs": [
    {
     "data": {
      "text/plain": [
       "0.3619061278640324"
      ]
     },
     "execution_count": 58,
     "metadata": {},
     "output_type": "execute_result"
    }
   ],
   "source": [
    "f1_score(Y_test_w2v, nn_class_dropout_predictions)"
   ]
  },
  {
   "cell_type": "code",
   "execution_count": 59,
   "id": "07d79ee5-855a-44a9-ae2c-545bc02d65cf",
   "metadata": {},
   "outputs": [
    {
     "data": {
      "text/plain": [
       "0.7533383416543538"
      ]
     },
     "execution_count": 59,
     "metadata": {},
     "output_type": "execute_result"
    }
   ],
   "source": [
    "accuracy_score(Y_test_w2v, nn_class_dropout_predictions)"
   ]
  },
  {
   "cell_type": "markdown",
   "id": "dbe9ecde-14e1-4338-baef-f46505863ecd",
   "metadata": {},
   "source": [
    "## Evaluating dataset on new tweets pulled from Twitter"
   ]
  },
  {
   "cell_type": "code",
   "execution_count": null,
   "id": "6fab7cc8",
   "metadata": {},
   "outputs": [],
   "source": [
    "tweets =pd.read_csv('data/tweets_normalized.csv')\n",
    "#df = train[['target','comment_text']]"
   ]
  },
  {
   "cell_type": "code",
   "execution_count": null,
   "id": "b5aa0c1e",
   "metadata": {},
   "outputs": [],
   "source": [
    "tweets.head()"
   ]
  },
  {
   "cell_type": "code",
   "execution_count": null,
   "id": "1e94e004",
   "metadata": {},
   "outputs": [],
   "source": [
    "norm_text = tweets['tweet_normalized'].tolist()\n",
    "norm_text = [str(x) for x in norm_text]"
   ]
  },
  {
   "cell_type": "code",
   "execution_count": null,
   "id": "d4886c45",
   "metadata": {},
   "outputs": [],
   "source": [
    "norm_text[0]"
   ]
  },
  {
   "cell_type": "code",
   "execution_count": null,
   "id": "cf213e3e",
   "metadata": {},
   "outputs": [],
   "source": [
    "doc = [x.split() for x in norm_text]\n",
    "doc"
   ]
  },
  {
   "cell_type": "code",
   "execution_count": null,
   "id": "08e2a971",
   "metadata": {},
   "outputs": [],
   "source": [
    "word_vecs = [document_vector(filtered_doc) for filtered_doc in tqdm(doc)]\n",
    "word_vecs"
   ]
  },
  {
   "cell_type": "code",
   "execution_count": null,
   "id": "2caa5448",
   "metadata": {},
   "outputs": [],
   "source": [
    "len(word_vecs)"
   ]
  },
  {
   "cell_type": "code",
   "execution_count": null,
   "id": "ece6e989",
   "metadata": {},
   "outputs": [],
   "source": [
    "error_indices = [i for i in range(len(word_vecs)) if word_vecs[i] is None]\n",
    "error_indices"
   ]
  },
  {
   "cell_type": "code",
   "execution_count": null,
   "id": "439ac113",
   "metadata": {},
   "outputs": [],
   "source": [
    "X_tweets_w2v = [i for i in tqdm(word_vecs) if i is not None]"
   ]
  },
  {
   "cell_type": "code",
   "execution_count": null,
   "id": "32d227cf",
   "metadata": {},
   "outputs": [],
   "source": [
    "X_tweets_w2v_df = pd.DataFrame(np.array(X_tweets_w2v))"
   ]
  },
  {
   "cell_type": "code",
   "execution_count": null,
   "id": "77f25f23",
   "metadata": {},
   "outputs": [],
   "source": [
    "X_tweets_w2v_df.shape"
   ]
  },
  {
   "cell_type": "code",
   "execution_count": null,
   "id": "dd26e781",
   "metadata": {},
   "outputs": [],
   "source": [
    "X_tweets_w2v_df.to_csv('data/X_tweets_w2v.csv', index=False)"
   ]
  },
  {
   "cell_type": "code",
   "execution_count": null,
   "id": "e4bd8c3b",
   "metadata": {},
   "outputs": [],
   "source": [
    "X_tweets_w2v_df =pd.read_csv('data/X_tweets_w2v.csv')"
   ]
  },
  {
   "cell_type": "code",
   "execution_count": null,
   "id": "07c3eca7",
   "metadata": {},
   "outputs": [],
   "source": [
    "predictions = nn_reg_dropout.predict(pd.DataFrame(X_tweets_w2v))\n",
    "predictions"
   ]
  },
  {
   "cell_type": "code",
   "execution_count": null,
   "id": "58a2044b-0e5a-46ec-a7cf-9516b24af60a",
   "metadata": {},
   "outputs": [],
   "source": [
    "tweets['Prediction'] = predictions\n",
    "tweets.to_csv('data/tweets_predicted.csv', index=False)"
   ]
  },
  {
   "cell_type": "code",
   "execution_count": null,
   "id": "500605df",
   "metadata": {},
   "outputs": [],
   "source": [
    "print(X_test_w2v)"
   ]
  },
  {
   "cell_type": "code",
   "execution_count": null,
   "id": "2ce81ad9",
   "metadata": {},
   "outputs": [],
   "source": [
    "print(pd.DataFrame(X_tweets_w2v))"
   ]
  },
  {
   "cell_type": "code",
   "execution_count": null,
   "id": "9302e2e8",
   "metadata": {},
   "outputs": [],
   "source": []
  }
 ],
 "metadata": {
  "kernelspec": {
   "display_name": "Python 3 (ipykernel)",
   "language": "python",
   "name": "python3"
  },
  "language_info": {
   "codemirror_mode": {
    "name": "ipython",
    "version": 3
   },
   "file_extension": ".py",
   "mimetype": "text/x-python",
   "name": "python",
   "nbconvert_exporter": "python",
   "pygments_lexer": "ipython3",
   "version": "3.9.13"
  }
 },
 "nbformat": 4,
 "nbformat_minor": 5
}
